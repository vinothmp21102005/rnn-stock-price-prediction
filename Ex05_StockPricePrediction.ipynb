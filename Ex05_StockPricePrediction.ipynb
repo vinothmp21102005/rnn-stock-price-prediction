{
  "cells": [
    {
      "cell_type": "markdown",
      "metadata": {
        "id": "kxDqRwA_ftIY"
      },
      "source": [
        "### Name: VINOTH M P\n",
        "### Register Number: 212223240182"
      ]
    },
    {
      "cell_type": "code",
      "execution_count": 1,
      "metadata": {
        "id": "rWulUnXvE0XQ"
      },
      "outputs": [],
      "source": [
        "import numpy as np\n",
        "import matplotlib.pyplot as plt\n",
        "import pandas as pd\n",
        "from sklearn.preprocessing import MinMaxScaler\n",
        "from keras import layers\n",
        "from keras.models import Sequential"
      ]
    },
    {
      "cell_type": "code",
      "execution_count": 3,
      "metadata": {
        "id": "G9yM-i2fGSeD"
      },
      "outputs": [],
      "source": [
        "dataset_train = pd.read_csv('trainset.csv')\n"
      ]
    },
    {
      "cell_type": "code",
      "execution_count": 4,
      "metadata": {
        "colab": {
          "base_uri": "https://localhost:8080/"
        },
        "id": "ZnNFxG1yHJXj",
        "outputId": "24ab792f-0597-4ede-ee44-7fb7ecea4a89"
      },
      "outputs": [
        {
          "data": {
            "text/plain": [
              "Index(['Date', 'Open', 'High', 'Low', 'Close', 'Adj Close', 'Volume'], dtype='object')"
            ]
          },
          "execution_count": 4,
          "metadata": {},
          "output_type": "execute_result"
        }
      ],
      "source": [
        "dataset_train.columns"
      ]
    },
    {
      "cell_type": "code",
      "execution_count": 5,
      "metadata": {
        "colab": {
          "base_uri": "https://localhost:8080/",
          "height": 206
        },
        "id": "ioHdtmFxHSQ5",
        "outputId": "625daf1e-8097-423b-e52b-6375f0fd55d4"
      },
      "outputs": [
        {
          "data": {
            "application/vnd.google.colaboratory.intrinsic+json": {
              "summary": "{\n  \"name\": \"dataset_train\",\n  \"rows\": 1259,\n  \"fields\": [\n    {\n      \"column\": \"Date\",\n      \"properties\": {\n        \"dtype\": \"object\",\n        \"num_unique_values\": 1259,\n        \"samples\": [\n          \"2013-04-23\",\n          \"2017-01-30\",\n          \"2013-03-06\"\n        ],\n        \"semantic_type\": \"\",\n        \"description\": \"\"\n      }\n    },\n    {\n      \"column\": \"Open\",\n      \"properties\": {\n        \"dtype\": \"number\",\n        \"std\": 175.63057351209417,\n        \"min\": 350.053253,\n        \"max\": 1075.199951,\n        \"num_unique_values\": 1228,\n        \"samples\": [\n          727.580017,\n          524.118103,\n          553.40564\n        ],\n        \"semantic_type\": \"\",\n        \"description\": \"\"\n      }\n    },\n    {\n      \"column\": \"High\",\n      \"properties\": {\n        \"dtype\": \"number\",\n        \"std\": 176.62741611717948,\n        \"min\": 350.391052,\n        \"max\": 1078.48999,\n        \"num_unique_values\": 1239,\n        \"samples\": [\n          580.309143,\n          577.489014,\n          517.056946\n        ],\n        \"semantic_type\": \"\",\n        \"description\": \"\"\n      }\n    },\n    {\n      \"column\": \"Low\",\n      \"properties\": {\n        \"dtype\": \"number\",\n        \"std\": 174.73281352959697,\n        \"min\": 345.512787,\n        \"max\": 1063.550049,\n        \"num_unique_values\": 1240,\n        \"samples\": [\n          576.052551,\n          568.403076,\n          518.469177\n        ],\n        \"semantic_type\": \"\",\n        \"description\": \"\"\n      }\n    },\n    {\n      \"column\": \"Close\",\n      \"properties\": {\n        \"dtype\": \"number\",\n        \"std\": 175.82099273815913,\n        \"min\": 349.164032,\n        \"max\": 1077.140015,\n        \"num_unique_values\": 1245,\n        \"samples\": [\n          749.460022,\n          557.812866,\n          927.330017\n        ],\n        \"semantic_type\": \"\",\n        \"description\": \"\"\n      }\n    },\n    {\n      \"column\": \"Adj Close\",\n      \"properties\": {\n        \"dtype\": \"number\",\n        \"std\": 175.82099273815913,\n        \"min\": 349.164032,\n        \"max\": 1077.140015,\n        \"num_unique_values\": 1245,\n        \"samples\": [\n          749.460022,\n          557.812866,\n          927.330017\n        ],\n        \"semantic_type\": \"\",\n        \"description\": \"\"\n      }\n    },\n    {\n      \"column\": \"Volume\",\n      \"properties\": {\n        \"dtype\": \"number\",\n        \"std\": 1672159,\n        \"min\": 7900,\n        \"max\": 23283100,\n        \"num_unique_values\": 1228,\n        \"samples\": [\n          1837200,\n          2000000,\n          1477800\n        ],\n        \"semantic_type\": \"\",\n        \"description\": \"\"\n      }\n    }\n  ]\n}",
              "type": "dataframe",
              "variable_name": "dataset_train"
            },
            "text/html": [
              "\n",
              "  <div id=\"df-7ba8944e-47f7-48e6-a559-ac00794b78ea\" class=\"colab-df-container\">\n",
              "    <div>\n",
              "<style scoped>\n",
              "    .dataframe tbody tr th:only-of-type {\n",
              "        vertical-align: middle;\n",
              "    }\n",
              "\n",
              "    .dataframe tbody tr th {\n",
              "        vertical-align: top;\n",
              "    }\n",
              "\n",
              "    .dataframe thead th {\n",
              "        text-align: right;\n",
              "    }\n",
              "</style>\n",
              "<table border=\"1\" class=\"dataframe\">\n",
              "  <thead>\n",
              "    <tr style=\"text-align: right;\">\n",
              "      <th></th>\n",
              "      <th>Date</th>\n",
              "      <th>Open</th>\n",
              "      <th>High</th>\n",
              "      <th>Low</th>\n",
              "      <th>Close</th>\n",
              "      <th>Adj Close</th>\n",
              "      <th>Volume</th>\n",
              "    </tr>\n",
              "  </thead>\n",
              "  <tbody>\n",
              "    <tr>\n",
              "      <th>0</th>\n",
              "      <td>2013-01-02</td>\n",
              "      <td>357.385559</td>\n",
              "      <td>361.151062</td>\n",
              "      <td>355.959839</td>\n",
              "      <td>359.288177</td>\n",
              "      <td>359.288177</td>\n",
              "      <td>5115500</td>\n",
              "    </tr>\n",
              "    <tr>\n",
              "      <th>1</th>\n",
              "      <td>2013-01-03</td>\n",
              "      <td>360.122742</td>\n",
              "      <td>363.600128</td>\n",
              "      <td>358.031342</td>\n",
              "      <td>359.496826</td>\n",
              "      <td>359.496826</td>\n",
              "      <td>4666500</td>\n",
              "    </tr>\n",
              "    <tr>\n",
              "      <th>2</th>\n",
              "      <td>2013-01-04</td>\n",
              "      <td>362.313507</td>\n",
              "      <td>368.339294</td>\n",
              "      <td>361.488861</td>\n",
              "      <td>366.600616</td>\n",
              "      <td>366.600616</td>\n",
              "      <td>5562800</td>\n",
              "    </tr>\n",
              "    <tr>\n",
              "      <th>3</th>\n",
              "      <td>2013-01-07</td>\n",
              "      <td>365.348755</td>\n",
              "      <td>367.301056</td>\n",
              "      <td>362.929504</td>\n",
              "      <td>365.001007</td>\n",
              "      <td>365.001007</td>\n",
              "      <td>3332900</td>\n",
              "    </tr>\n",
              "    <tr>\n",
              "      <th>4</th>\n",
              "      <td>2013-01-08</td>\n",
              "      <td>365.393463</td>\n",
              "      <td>365.771027</td>\n",
              "      <td>359.874359</td>\n",
              "      <td>364.280701</td>\n",
              "      <td>364.280701</td>\n",
              "      <td>3373900</td>\n",
              "    </tr>\n",
              "  </tbody>\n",
              "</table>\n",
              "</div>\n",
              "    <div class=\"colab-df-buttons\">\n",
              "\n",
              "  <div class=\"colab-df-container\">\n",
              "    <button class=\"colab-df-convert\" onclick=\"convertToInteractive('df-7ba8944e-47f7-48e6-a559-ac00794b78ea')\"\n",
              "            title=\"Convert this dataframe to an interactive table.\"\n",
              "            style=\"display:none;\">\n",
              "\n",
              "  <svg xmlns=\"http://www.w3.org/2000/svg\" height=\"24px\" viewBox=\"0 -960 960 960\">\n",
              "    <path d=\"M120-120v-720h720v720H120Zm60-500h600v-160H180v160Zm220 220h160v-160H400v160Zm0 220h160v-160H400v160ZM180-400h160v-160H180v160Zm440 0h160v-160H620v160ZM180-180h160v-160H180v160Zm440 0h160v-160H620v160Z\"/>\n",
              "  </svg>\n",
              "    </button>\n",
              "\n",
              "  <style>\n",
              "    .colab-df-container {\n",
              "      display:flex;\n",
              "      gap: 12px;\n",
              "    }\n",
              "\n",
              "    .colab-df-convert {\n",
              "      background-color: #E8F0FE;\n",
              "      border: none;\n",
              "      border-radius: 50%;\n",
              "      cursor: pointer;\n",
              "      display: none;\n",
              "      fill: #1967D2;\n",
              "      height: 32px;\n",
              "      padding: 0 0 0 0;\n",
              "      width: 32px;\n",
              "    }\n",
              "\n",
              "    .colab-df-convert:hover {\n",
              "      background-color: #E2EBFA;\n",
              "      box-shadow: 0px 1px 2px rgba(60, 64, 67, 0.3), 0px 1px 3px 1px rgba(60, 64, 67, 0.15);\n",
              "      fill: #174EA6;\n",
              "    }\n",
              "\n",
              "    .colab-df-buttons div {\n",
              "      margin-bottom: 4px;\n",
              "    }\n",
              "\n",
              "    [theme=dark] .colab-df-convert {\n",
              "      background-color: #3B4455;\n",
              "      fill: #D2E3FC;\n",
              "    }\n",
              "\n",
              "    [theme=dark] .colab-df-convert:hover {\n",
              "      background-color: #434B5C;\n",
              "      box-shadow: 0px 1px 3px 1px rgba(0, 0, 0, 0.15);\n",
              "      filter: drop-shadow(0px 1px 2px rgba(0, 0, 0, 0.3));\n",
              "      fill: #FFFFFF;\n",
              "    }\n",
              "  </style>\n",
              "\n",
              "    <script>\n",
              "      const buttonEl =\n",
              "        document.querySelector('#df-7ba8944e-47f7-48e6-a559-ac00794b78ea button.colab-df-convert');\n",
              "      buttonEl.style.display =\n",
              "        google.colab.kernel.accessAllowed ? 'block' : 'none';\n",
              "\n",
              "      async function convertToInteractive(key) {\n",
              "        const element = document.querySelector('#df-7ba8944e-47f7-48e6-a559-ac00794b78ea');\n",
              "        const dataTable =\n",
              "          await google.colab.kernel.invokeFunction('convertToInteractive',\n",
              "                                                    [key], {});\n",
              "        if (!dataTable) return;\n",
              "\n",
              "        const docLinkHtml = 'Like what you see? Visit the ' +\n",
              "          '<a target=\"_blank\" href=https://colab.research.google.com/notebooks/data_table.ipynb>data table notebook</a>'\n",
              "          + ' to learn more about interactive tables.';\n",
              "        element.innerHTML = '';\n",
              "        dataTable['output_type'] = 'display_data';\n",
              "        await google.colab.output.renderOutput(dataTable, element);\n",
              "        const docLink = document.createElement('div');\n",
              "        docLink.innerHTML = docLinkHtml;\n",
              "        element.appendChild(docLink);\n",
              "      }\n",
              "    </script>\n",
              "  </div>\n",
              "\n",
              "\n",
              "<div id=\"df-e8527181-a99a-4d96-b817-e44cdb0bbc3a\">\n",
              "  <button class=\"colab-df-quickchart\" onclick=\"quickchart('df-e8527181-a99a-4d96-b817-e44cdb0bbc3a')\"\n",
              "            title=\"Suggest charts\"\n",
              "            style=\"display:none;\">\n",
              "\n",
              "<svg xmlns=\"http://www.w3.org/2000/svg\" height=\"24px\"viewBox=\"0 0 24 24\"\n",
              "     width=\"24px\">\n",
              "    <g>\n",
              "        <path d=\"M19 3H5c-1.1 0-2 .9-2 2v14c0 1.1.9 2 2 2h14c1.1 0 2-.9 2-2V5c0-1.1-.9-2-2-2zM9 17H7v-7h2v7zm4 0h-2V7h2v10zm4 0h-2v-4h2v4z\"/>\n",
              "    </g>\n",
              "</svg>\n",
              "  </button>\n",
              "\n",
              "<style>\n",
              "  .colab-df-quickchart {\n",
              "      --bg-color: #E8F0FE;\n",
              "      --fill-color: #1967D2;\n",
              "      --hover-bg-color: #E2EBFA;\n",
              "      --hover-fill-color: #174EA6;\n",
              "      --disabled-fill-color: #AAA;\n",
              "      --disabled-bg-color: #DDD;\n",
              "  }\n",
              "\n",
              "  [theme=dark] .colab-df-quickchart {\n",
              "      --bg-color: #3B4455;\n",
              "      --fill-color: #D2E3FC;\n",
              "      --hover-bg-color: #434B5C;\n",
              "      --hover-fill-color: #FFFFFF;\n",
              "      --disabled-bg-color: #3B4455;\n",
              "      --disabled-fill-color: #666;\n",
              "  }\n",
              "\n",
              "  .colab-df-quickchart {\n",
              "    background-color: var(--bg-color);\n",
              "    border: none;\n",
              "    border-radius: 50%;\n",
              "    cursor: pointer;\n",
              "    display: none;\n",
              "    fill: var(--fill-color);\n",
              "    height: 32px;\n",
              "    padding: 0;\n",
              "    width: 32px;\n",
              "  }\n",
              "\n",
              "  .colab-df-quickchart:hover {\n",
              "    background-color: var(--hover-bg-color);\n",
              "    box-shadow: 0 1px 2px rgba(60, 64, 67, 0.3), 0 1px 3px 1px rgba(60, 64, 67, 0.15);\n",
              "    fill: var(--button-hover-fill-color);\n",
              "  }\n",
              "\n",
              "  .colab-df-quickchart-complete:disabled,\n",
              "  .colab-df-quickchart-complete:disabled:hover {\n",
              "    background-color: var(--disabled-bg-color);\n",
              "    fill: var(--disabled-fill-color);\n",
              "    box-shadow: none;\n",
              "  }\n",
              "\n",
              "  .colab-df-spinner {\n",
              "    border: 2px solid var(--fill-color);\n",
              "    border-color: transparent;\n",
              "    border-bottom-color: var(--fill-color);\n",
              "    animation:\n",
              "      spin 1s steps(1) infinite;\n",
              "  }\n",
              "\n",
              "  @keyframes spin {\n",
              "    0% {\n",
              "      border-color: transparent;\n",
              "      border-bottom-color: var(--fill-color);\n",
              "      border-left-color: var(--fill-color);\n",
              "    }\n",
              "    20% {\n",
              "      border-color: transparent;\n",
              "      border-left-color: var(--fill-color);\n",
              "      border-top-color: var(--fill-color);\n",
              "    }\n",
              "    30% {\n",
              "      border-color: transparent;\n",
              "      border-left-color: var(--fill-color);\n",
              "      border-top-color: var(--fill-color);\n",
              "      border-right-color: var(--fill-color);\n",
              "    }\n",
              "    40% {\n",
              "      border-color: transparent;\n",
              "      border-right-color: var(--fill-color);\n",
              "      border-top-color: var(--fill-color);\n",
              "    }\n",
              "    60% {\n",
              "      border-color: transparent;\n",
              "      border-right-color: var(--fill-color);\n",
              "    }\n",
              "    80% {\n",
              "      border-color: transparent;\n",
              "      border-right-color: var(--fill-color);\n",
              "      border-bottom-color: var(--fill-color);\n",
              "    }\n",
              "    90% {\n",
              "      border-color: transparent;\n",
              "      border-bottom-color: var(--fill-color);\n",
              "    }\n",
              "  }\n",
              "</style>\n",
              "\n",
              "  <script>\n",
              "    async function quickchart(key) {\n",
              "      const quickchartButtonEl =\n",
              "        document.querySelector('#' + key + ' button');\n",
              "      quickchartButtonEl.disabled = true;  // To prevent multiple clicks.\n",
              "      quickchartButtonEl.classList.add('colab-df-spinner');\n",
              "      try {\n",
              "        const charts = await google.colab.kernel.invokeFunction(\n",
              "            'suggestCharts', [key], {});\n",
              "      } catch (error) {\n",
              "        console.error('Error during call to suggestCharts:', error);\n",
              "      }\n",
              "      quickchartButtonEl.classList.remove('colab-df-spinner');\n",
              "      quickchartButtonEl.classList.add('colab-df-quickchart-complete');\n",
              "    }\n",
              "    (() => {\n",
              "      let quickchartButtonEl =\n",
              "        document.querySelector('#df-e8527181-a99a-4d96-b817-e44cdb0bbc3a button');\n",
              "      quickchartButtonEl.style.display =\n",
              "        google.colab.kernel.accessAllowed ? 'block' : 'none';\n",
              "    })();\n",
              "  </script>\n",
              "</div>\n",
              "\n",
              "    </div>\n",
              "  </div>\n"
            ],
            "text/plain": [
              "         Date        Open        High         Low       Close   Adj Close  \\\n",
              "0  2013-01-02  357.385559  361.151062  355.959839  359.288177  359.288177   \n",
              "1  2013-01-03  360.122742  363.600128  358.031342  359.496826  359.496826   \n",
              "2  2013-01-04  362.313507  368.339294  361.488861  366.600616  366.600616   \n",
              "3  2013-01-07  365.348755  367.301056  362.929504  365.001007  365.001007   \n",
              "4  2013-01-08  365.393463  365.771027  359.874359  364.280701  364.280701   \n",
              "\n",
              "    Volume  \n",
              "0  5115500  \n",
              "1  4666500  \n",
              "2  5562800  \n",
              "3  3332900  \n",
              "4  3373900  "
            ]
          },
          "execution_count": 5,
          "metadata": {},
          "output_type": "execute_result"
        }
      ],
      "source": [
        "dataset_train.head()"
      ]
    },
    {
      "cell_type": "code",
      "execution_count": 6,
      "metadata": {
        "id": "od_Jh97fHxsp"
      },
      "outputs": [],
      "source": [
        "train_set = dataset_train.iloc[:,1:2].values"
      ]
    },
    {
      "cell_type": "code",
      "execution_count": 7,
      "metadata": {
        "colab": {
          "base_uri": "https://localhost:8080/"
        },
        "id": "ipOhkvP0H8Ki",
        "outputId": "8bd90fd6-45b3-485b-d556-948825a76738"
      },
      "outputs": [
        {
          "data": {
            "text/plain": [
              "numpy.ndarray"
            ]
          },
          "execution_count": 7,
          "metadata": {},
          "output_type": "execute_result"
        }
      ],
      "source": [
        "type(train_set)"
      ]
    },
    {
      "cell_type": "code",
      "execution_count": 8,
      "metadata": {
        "colab": {
          "base_uri": "https://localhost:8080/"
        },
        "id": "10qpaYabITYB",
        "outputId": "a66660c9-3bcf-490c-f1ea-7c7c1272fd8c"
      },
      "outputs": [
        {
          "data": {
            "text/plain": [
              "(1259, 1)"
            ]
          },
          "execution_count": 8,
          "metadata": {},
          "output_type": "execute_result"
        }
      ],
      "source": [
        "train_set.shape"
      ]
    },
    {
      "cell_type": "code",
      "execution_count": 9,
      "metadata": {
        "id": "Wc5QNHisIMcp"
      },
      "outputs": [],
      "source": [
        "sc = MinMaxScaler(feature_range=(0,1))\n",
        "training_set_scaled = sc.fit_transform(train_set)"
      ]
    },
    {
      "cell_type": "code",
      "execution_count": 10,
      "metadata": {
        "colab": {
          "base_uri": "https://localhost:8080/"
        },
        "id": "VYMccXBzjMzz",
        "outputId": "87efd653-1667-40ba-f4c3-96500388c228"
      },
      "outputs": [
        {
          "data": {
            "text/plain": [
              "(1259, 1)"
            ]
          },
          "execution_count": 10,
          "metadata": {},
          "output_type": "execute_result"
        }
      ],
      "source": [
        "training_set_scaled.shape"
      ]
    },
    {
      "cell_type": "code",
      "execution_count": 11,
      "metadata": {
        "id": "qO7NJjsCI1qq"
      },
      "outputs": [],
      "source": [
        "X_train_array = []\n",
        "y_train_array = []\n",
        "for i in range(60, 1259):\n",
        "  X_train_array.append(training_set_scaled[i-60:i,0])\n",
        "  y_train_array.append(training_set_scaled[i,0])\n",
        "X_train, y_train = np.array(X_train_array), np.array(y_train_array)\n",
        "X_train1 = X_train.reshape((X_train.shape[0], X_train.shape[1],1))\n"
      ]
    },
    {
      "cell_type": "code",
      "execution_count": 14,
      "metadata": {
        "colab": {
          "base_uri": "https://localhost:8080/"
        },
        "id": "0rRZyii1IWmq",
        "outputId": "4e1cfa3d-2d5e-486d-8999-406c4a370710"
      },
      "outputs": [
        {
          "data": {
            "text/plain": [
              "(1199, 60)"
            ]
          },
          "execution_count": 14,
          "metadata": {},
          "output_type": "execute_result"
        }
      ],
      "source": [
        "X_train.shape"
      ]
    },
    {
      "cell_type": "code",
      "execution_count": 28,
      "metadata": {
        "id": "BknoiyHTN_tb"
      },
      "outputs": [],
      "source": [
        "length = 60\n",
        "n_features = 1"
      ]
    },
    {
      "cell_type": "code",
      "execution_count": 29,
      "metadata": {
        "id": "tb1wq3smJuDF"
      },
      "outputs": [],
      "source": [
        "model = Sequential()\n",
        "model.add(layers.Bidirectional(layers.SimpleRNN(units=60),input_shape=(length,n_features)))\n",
        "model.add(layers.Dense(1))\n",
        "\n",
        "model.compile(optimizer='adam', loss='mse')"
      ]
    },
    {
      "cell_type": "code",
      "execution_count": 30,
      "metadata": {
        "colab": {
          "base_uri": "https://localhost:8080/"
        },
        "id": "RmitWR-Qk500",
        "outputId": "4015ba54-5f73-45e1-e5a1-b517fb804ca5"
      },
      "outputs": [
        {
          "name": "stdout",
          "output_type": "stream",
          "text": [
            "Name:VINOTH M P    Register Number: 212223240182          \n",
            "Model: \"sequential_12\"\n",
            "_________________________________________________________________\n",
            " Layer (type)                Output Shape              Param #   \n",
            "=================================================================\n",
            " bidirectional_3 (Bidirecti  (None, 120)               7440      \n",
            " onal)                                                           \n",
            "                                                                 \n",
            " dense_2 (Dense)             (None, 1)                 121       \n",
            "                                                                 \n",
            "=================================================================\n",
            "Total params: 7561 (29.54 KB)\n",
            "Trainable params: 7561 (29.54 KB)\n",
            "Non-trainable params: 0 (0.00 Byte)\n",
            "_________________________________________________________________\n"
          ]
        }
      ],
      "source": [
        "print(\"Name:VINOTH M P    Register Number: 212223240182          \")\n",
        "model.summary()"
      ]
    },
    {
      "cell_type": "code",
      "execution_count": 31,
      "metadata": {
        "colab": {
          "base_uri": "https://localhost:8080/"
        },
        "id": "fXZtPWTgO5T7",
        "outputId": "26df793e-c113-47bc-f275-91cc58508cd2"
      },
      "outputs": [
        {
          "name": "stdout",
          "output_type": "stream",
          "text": [
            "Epoch 1/100\n",
            "38/38 [==============================] - 3s 21ms/step - loss: 0.0655\n",
            "Epoch 2/100\n",
            "38/38 [==============================] - 1s 14ms/step - loss: 0.0024\n",
            "Epoch 3/100\n",
            "38/38 [==============================] - 1s 13ms/step - loss: 0.0017\n",
            "Epoch 4/100\n",
            "38/38 [==============================] - 1s 13ms/step - loss: 0.0015\n",
            "Epoch 5/100\n",
            "38/38 [==============================] - 0s 13ms/step - loss: 0.0012\n",
            "Epoch 6/100\n",
            "38/38 [==============================] - 1s 14ms/step - loss: 0.0011\n",
            "Epoch 7/100\n",
            "38/38 [==============================] - 1s 13ms/step - loss: 9.7938e-04\n",
            "Epoch 8/100\n",
            "38/38 [==============================] - 1s 14ms/step - loss: 7.5234e-04\n",
            "Epoch 9/100\n",
            "38/38 [==============================] - 0s 13ms/step - loss: 7.5580e-04\n",
            "Epoch 10/100\n",
            "38/38 [==============================] - 1s 14ms/step - loss: 6.3499e-04\n",
            "Epoch 11/100\n",
            "38/38 [==============================] - 0s 13ms/step - loss: 6.9462e-04\n",
            "Epoch 12/100\n",
            "38/38 [==============================] - 1s 14ms/step - loss: 5.7774e-04\n",
            "Epoch 13/100\n",
            "38/38 [==============================] - 1s 13ms/step - loss: 5.6345e-04\n",
            "Epoch 14/100\n",
            "38/38 [==============================] - 1s 13ms/step - loss: 4.8603e-04\n",
            "Epoch 15/100\n",
            "38/38 [==============================] - 1s 14ms/step - loss: 4.8378e-04\n",
            "Epoch 16/100\n",
            "38/38 [==============================] - 1s 16ms/step - loss: 4.5829e-04\n",
            "Epoch 17/100\n",
            "38/38 [==============================] - 1s 24ms/step - loss: 5.2901e-04\n",
            "Epoch 18/100\n",
            "38/38 [==============================] - 1s 17ms/step - loss: 4.5551e-04\n",
            "Epoch 19/100\n",
            "38/38 [==============================] - 1s 14ms/step - loss: 4.0338e-04\n",
            "Epoch 20/100\n",
            "38/38 [==============================] - 1s 13ms/step - loss: 3.6409e-04\n",
            "Epoch 21/100\n",
            "38/38 [==============================] - 1s 13ms/step - loss: 4.1662e-04\n",
            "Epoch 22/100\n",
            "38/38 [==============================] - 1s 14ms/step - loss: 4.2072e-04\n",
            "Epoch 23/100\n",
            "38/38 [==============================] - 1s 14ms/step - loss: 3.9845e-04\n",
            "Epoch 24/100\n",
            "38/38 [==============================] - 1s 14ms/step - loss: 3.9151e-04\n",
            "Epoch 25/100\n",
            "38/38 [==============================] - 1s 14ms/step - loss: 3.5142e-04\n",
            "Epoch 26/100\n",
            "38/38 [==============================] - 0s 13ms/step - loss: 3.9927e-04\n",
            "Epoch 27/100\n",
            "38/38 [==============================] - 1s 13ms/step - loss: 4.3553e-04\n",
            "Epoch 28/100\n",
            "38/38 [==============================] - 1s 14ms/step - loss: 3.6090e-04\n",
            "Epoch 29/100\n",
            "38/38 [==============================] - 1s 14ms/step - loss: 3.2228e-04\n",
            "Epoch 30/100\n",
            "38/38 [==============================] - 0s 13ms/step - loss: 2.9360e-04\n",
            "Epoch 31/100\n",
            "38/38 [==============================] - 1s 14ms/step - loss: 3.1336e-04\n",
            "Epoch 32/100\n",
            "38/38 [==============================] - 0s 13ms/step - loss: 3.5350e-04\n",
            "Epoch 33/100\n",
            "38/38 [==============================] - 1s 14ms/step - loss: 3.3920e-04\n",
            "Epoch 34/100\n",
            "38/38 [==============================] - 1s 13ms/step - loss: 2.8813e-04\n",
            "Epoch 35/100\n",
            "38/38 [==============================] - 1s 13ms/step - loss: 3.7578e-04\n",
            "Epoch 36/100\n",
            "38/38 [==============================] - 1s 14ms/step - loss: 3.3745e-04\n",
            "Epoch 37/100\n",
            "38/38 [==============================] - 1s 18ms/step - loss: 3.1797e-04\n",
            "Epoch 38/100\n",
            "38/38 [==============================] - 1s 25ms/step - loss: 3.3003e-04\n",
            "Epoch 39/100\n",
            "38/38 [==============================] - 1s 14ms/step - loss: 2.8295e-04\n",
            "Epoch 40/100\n",
            "38/38 [==============================] - 1s 14ms/step - loss: 2.8464e-04\n",
            "Epoch 41/100\n",
            "38/38 [==============================] - 1s 14ms/step - loss: 2.7875e-04\n",
            "Epoch 42/100\n",
            "38/38 [==============================] - 1s 14ms/step - loss: 2.7606e-04\n",
            "Epoch 43/100\n",
            "38/38 [==============================] - 1s 14ms/step - loss: 3.5174e-04\n",
            "Epoch 44/100\n",
            "38/38 [==============================] - 1s 14ms/step - loss: 3.0583e-04\n",
            "Epoch 45/100\n",
            "38/38 [==============================] - 1s 14ms/step - loss: 2.4646e-04\n",
            "Epoch 46/100\n",
            "38/38 [==============================] - 1s 13ms/step - loss: 2.6331e-04\n",
            "Epoch 47/100\n",
            "38/38 [==============================] - 1s 13ms/step - loss: 2.5747e-04\n",
            "Epoch 48/100\n",
            "38/38 [==============================] - 1s 13ms/step - loss: 2.5237e-04\n",
            "Epoch 49/100\n",
            "38/38 [==============================] - 1s 14ms/step - loss: 3.0925e-04\n",
            "Epoch 50/100\n",
            "38/38 [==============================] - 1s 13ms/step - loss: 3.7666e-04\n",
            "Epoch 51/100\n",
            "38/38 [==============================] - 1s 14ms/step - loss: 2.6430e-04\n",
            "Epoch 52/100\n",
            "38/38 [==============================] - 1s 14ms/step - loss: 2.2392e-04\n",
            "Epoch 53/100\n",
            "38/38 [==============================] - 1s 14ms/step - loss: 2.4400e-04\n",
            "Epoch 54/100\n",
            "38/38 [==============================] - 1s 13ms/step - loss: 2.1641e-04\n",
            "Epoch 55/100\n",
            "38/38 [==============================] - 1s 14ms/step - loss: 2.4293e-04\n",
            "Epoch 56/100\n",
            "38/38 [==============================] - 1s 14ms/step - loss: 2.3771e-04\n",
            "Epoch 57/100\n",
            "38/38 [==============================] - 1s 17ms/step - loss: 2.6428e-04\n",
            "Epoch 58/100\n",
            "38/38 [==============================] - 1s 23ms/step - loss: 2.8412e-04\n",
            "Epoch 59/100\n",
            "38/38 [==============================] - 1s 15ms/step - loss: 2.8274e-04\n",
            "Epoch 60/100\n",
            "38/38 [==============================] - 1s 14ms/step - loss: 2.4647e-04\n",
            "Epoch 61/100\n",
            "38/38 [==============================] - 1s 14ms/step - loss: 2.1441e-04\n",
            "Epoch 62/100\n",
            "38/38 [==============================] - 1s 14ms/step - loss: 2.6740e-04\n",
            "Epoch 63/100\n",
            "38/38 [==============================] - 1s 14ms/step - loss: 3.3965e-04\n",
            "Epoch 64/100\n",
            "38/38 [==============================] - 1s 14ms/step - loss: 2.4044e-04\n",
            "Epoch 65/100\n",
            "38/38 [==============================] - 1s 14ms/step - loss: 2.0967e-04\n",
            "Epoch 66/100\n",
            "38/38 [==============================] - 1s 13ms/step - loss: 2.6047e-04\n",
            "Epoch 67/100\n",
            "38/38 [==============================] - 1s 14ms/step - loss: 2.2756e-04\n",
            "Epoch 68/100\n",
            "38/38 [==============================] - 0s 13ms/step - loss: 3.4465e-04\n",
            "Epoch 69/100\n",
            "38/38 [==============================] - 1s 14ms/step - loss: 3.1797e-04\n",
            "Epoch 70/100\n",
            "38/38 [==============================] - 1s 14ms/step - loss: 2.7284e-04\n",
            "Epoch 71/100\n",
            "38/38 [==============================] - 1s 14ms/step - loss: 2.1176e-04\n",
            "Epoch 72/100\n",
            "38/38 [==============================] - 1s 13ms/step - loss: 2.3433e-04\n",
            "Epoch 73/100\n",
            "38/38 [==============================] - 1s 14ms/step - loss: 2.1530e-04\n",
            "Epoch 74/100\n",
            "38/38 [==============================] - 1s 13ms/step - loss: 2.2931e-04\n",
            "Epoch 75/100\n",
            "38/38 [==============================] - 1s 14ms/step - loss: 2.0950e-04\n",
            "Epoch 76/100\n",
            "38/38 [==============================] - 1s 14ms/step - loss: 2.4778e-04\n",
            "Epoch 77/100\n",
            "38/38 [==============================] - 1s 14ms/step - loss: 2.1656e-04\n",
            "Epoch 78/100\n",
            "38/38 [==============================] - 1s 23ms/step - loss: 2.1666e-04\n",
            "Epoch 79/100\n",
            "38/38 [==============================] - 1s 22ms/step - loss: 2.5064e-04\n",
            "Epoch 80/100\n",
            "38/38 [==============================] - 1s 14ms/step - loss: 2.2376e-04\n",
            "Epoch 81/100\n",
            "38/38 [==============================] - 1s 14ms/step - loss: 2.5613e-04\n",
            "Epoch 82/100\n",
            "38/38 [==============================] - 1s 14ms/step - loss: 2.1267e-04\n",
            "Epoch 83/100\n",
            "38/38 [==============================] - 1s 14ms/step - loss: 2.1787e-04\n",
            "Epoch 84/100\n",
            "38/38 [==============================] - 1s 13ms/step - loss: 2.1080e-04\n",
            "Epoch 85/100\n",
            "38/38 [==============================] - 1s 13ms/step - loss: 2.3068e-04\n",
            "Epoch 86/100\n",
            "38/38 [==============================] - 0s 13ms/step - loss: 1.9645e-04\n",
            "Epoch 87/100\n",
            "38/38 [==============================] - 1s 14ms/step - loss: 2.2422e-04\n",
            "Epoch 88/100\n",
            "38/38 [==============================] - 1s 14ms/step - loss: 2.4138e-04\n",
            "Epoch 89/100\n",
            "38/38 [==============================] - 1s 14ms/step - loss: 3.0191e-04\n",
            "Epoch 90/100\n",
            "38/38 [==============================] - 1s 13ms/step - loss: 2.1865e-04\n",
            "Epoch 91/100\n",
            "38/38 [==============================] - 1s 14ms/step - loss: 2.5013e-04\n",
            "Epoch 92/100\n",
            "38/38 [==============================] - 1s 14ms/step - loss: 2.3381e-04\n",
            "Epoch 93/100\n",
            "38/38 [==============================] - 1s 14ms/step - loss: 2.4671e-04\n",
            "Epoch 94/100\n",
            "38/38 [==============================] - 1s 14ms/step - loss: 3.1008e-04\n",
            "Epoch 95/100\n",
            "38/38 [==============================] - 1s 14ms/step - loss: 2.1341e-04\n",
            "Epoch 96/100\n",
            "38/38 [==============================] - 1s 13ms/step - loss: 2.0479e-04\n",
            "Epoch 97/100\n",
            "38/38 [==============================] - 1s 14ms/step - loss: 2.0233e-04\n",
            "Epoch 98/100\n",
            "38/38 [==============================] - 1s 17ms/step - loss: 2.4796e-04\n",
            "Epoch 99/100\n",
            "38/38 [==============================] - 1s 25ms/step - loss: 1.8994e-04\n",
            "Epoch 100/100\n",
            "38/38 [==============================] - 1s 15ms/step - loss: 2.8055e-04\n"
          ]
        },
        {
          "data": {
            "text/plain": [
              "<keras.src.callbacks.History at 0x79e3f365a530>"
            ]
          },
          "execution_count": 31,
          "metadata": {},
          "output_type": "execute_result"
        }
      ],
      "source": [
        "model.fit(X_train1,y_train,epochs=100, batch_size=32)"
      ]
    },
    {
      "cell_type": "code",
      "execution_count": 32,
      "metadata": {
        "id": "OJzVwjRmPqDb"
      },
      "outputs": [],
      "source": [
        "dataset_test = pd.read_csv('testset.csv')"
      ]
    },
    {
      "cell_type": "code",
      "execution_count": 33,
      "metadata": {
        "id": "JPrrd1n-Px7o"
      },
      "outputs": [],
      "source": [
        "test_set = dataset_test.iloc[:,1:2].values"
      ]
    },
    {
      "cell_type": "code",
      "execution_count": 34,
      "metadata": {
        "colab": {
          "base_uri": "https://localhost:8080/"
        },
        "id": "WQgU2aH0bHZy",
        "outputId": "e90b7379-b2fa-4170-8ab4-85f074ea01fe"
      },
      "outputs": [
        {
          "data": {
            "text/plain": [
              "(125, 1)"
            ]
          },
          "execution_count": 34,
          "metadata": {},
          "output_type": "execute_result"
        }
      ],
      "source": [
        "test_set.shape"
      ]
    },
    {
      "cell_type": "code",
      "execution_count": 35,
      "metadata": {
        "id": "jqBvI7uQa8dz"
      },
      "outputs": [],
      "source": [
        "dataset_total = pd.concat((dataset_train['Open'],dataset_test['Open']),axis=0)"
      ]
    },
    {
      "cell_type": "code",
      "execution_count": 36,
      "metadata": {
        "id": "V6w4Dq01QJXk"
      },
      "outputs": [],
      "source": [
        "inputs = dataset_total.values\n",
        "inputs = inputs.reshape(-1,1)\n",
        "inputs_scaled=sc.transform(inputs)\n",
        "X_test = []\n",
        "for i in range(60,1384):\n",
        "  X_test.append(inputs_scaled[i-60:i,0])\n",
        "X_test = np.array(X_test)\n",
        "X_test = np.reshape(X_test,(X_test.shape[0], X_test.shape[1],1))"
      ]
    },
    {
      "cell_type": "code",
      "execution_count": 37,
      "metadata": {
        "colab": {
          "base_uri": "https://localhost:8080/"
        },
        "id": "zup_dSFXbqed",
        "outputId": "14b9f584-ac73-441f-f036-14208996083c"
      },
      "outputs": [
        {
          "data": {
            "text/plain": [
              "(1324, 60, 1)"
            ]
          },
          "execution_count": 37,
          "metadata": {},
          "output_type": "execute_result"
        }
      ],
      "source": [
        "X_test.shape"
      ]
    },
    {
      "cell_type": "code",
      "execution_count": 38,
      "metadata": {
        "colab": {
          "base_uri": "https://localhost:8080/"
        },
        "id": "M02bWmdhRneT",
        "outputId": "04c813cc-1667-4818-b2ed-628e078a9748"
      },
      "outputs": [
        {
          "name": "stdout",
          "output_type": "stream",
          "text": [
            "42/42 [==============================] - 1s 7ms/step\n"
          ]
        }
      ],
      "source": [
        "predicted_stock_price_scaled = model.predict(X_test)\n",
        "predicted_stock_price = sc.inverse_transform(predicted_stock_price_scaled)"
      ]
    },
    {
      "cell_type": "code",
      "execution_count": 39,
      "metadata": {
        "colab": {
          "base_uri": "https://localhost:8080/",
          "height": 490
        },
        "id": "60GZR-9ZR34C",
        "outputId": "0391dbd8-56cf-4b57-e44f-c1ff74200601"
      },
      "outputs": [
        {
          "name": "stdout",
          "output_type": "stream",
          "text": [
            "Name:  VINOTH M P         Register Number: 212223240182     \n"
          ]
        },
        {
          "data": {
            "image/png": "[encoded data removed]",
            "text/plain": [
              "<Figure size 640x480 with 1 Axes>"
            ]
          },
          "metadata": {},
          "output_type": "display_data"
        }
      ],
      "source": [
        "print(\"Name:  VINOTH M P         Register Number: 212223240182     \")\n",
        "plt.plot(np.arange(0,1384),inputs, color='red', label = 'Test(Real) Google stock price')\n",
        "plt.plot(np.arange(60,1384),predicted_stock_price, color='blue', label = 'Predicted Google stock price')\n",
        "plt.title('Google Stock Price Prediction')\n",
        "plt.xlabel('Time')\n",
        "plt.ylabel('Google Stock Price')\n",
        "plt.legend()\n",
        "plt.show()"
      ]
    }
  ],
  "metadata": {
    "colab": {
      "provenance": []
    },
    "kernelspec": {
      "display_name": "Python 3",
      "name": "python3"
    },
    "language_info": {
      "name": "python",
      "version": "3.11.3"
    }
  },
  "nbformat": 4,
  "nbformat_minor": 0
}
